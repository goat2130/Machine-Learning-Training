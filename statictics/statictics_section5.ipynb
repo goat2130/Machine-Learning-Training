{
 "cells": [
  {
   "cell_type": "code",
   "execution_count": 123,
   "metadata": {},
   "outputs": [],
   "source": [
    "import seaborn as sns\n",
    "import pandas as pd\n",
    "import numpy as np\n",
    "from scipy import stats\n",
    "import matplotlib.pyplot as plt\n",
    "from sklearn.preprocessing import StandardScaler\n",
    "%matplotlib inline"
   ]
  },
  {
   "cell_type": "code",
   "execution_count": 124,
   "metadata": {},
   "outputs": [
    {
     "data": {
      "text/html": [
       "<div>\n",
       "<style scoped>\n",
       "    .dataframe tbody tr th:only-of-type {\n",
       "        vertical-align: middle;\n",
       "    }\n",
       "\n",
       "    .dataframe tbody tr th {\n",
       "        vertical-align: top;\n",
       "    }\n",
       "\n",
       "    .dataframe thead th {\n",
       "        text-align: right;\n",
       "    }\n",
       "</style>\n",
       "<table border=\"1\" class=\"dataframe\">\n",
       "  <thead>\n",
       "    <tr style=\"text-align: right;\">\n",
       "      <th></th>\n",
       "      <th>total_bill</th>\n",
       "      <th>tip</th>\n",
       "      <th>sex</th>\n",
       "      <th>smoker</th>\n",
       "      <th>day</th>\n",
       "      <th>time</th>\n",
       "      <th>size</th>\n",
       "      <th>tips_rate</th>\n",
       "    </tr>\n",
       "  </thead>\n",
       "  <tbody>\n",
       "    <tr>\n",
       "      <th>0</th>\n",
       "      <td>16.99</td>\n",
       "      <td>1.01</td>\n",
       "      <td>Female</td>\n",
       "      <td>No</td>\n",
       "      <td>Sun</td>\n",
       "      <td>Dinner</td>\n",
       "      <td>2</td>\n",
       "      <td>0.059447</td>\n",
       "    </tr>\n",
       "    <tr>\n",
       "      <th>1</th>\n",
       "      <td>10.34</td>\n",
       "      <td>1.66</td>\n",
       "      <td>Male</td>\n",
       "      <td>No</td>\n",
       "      <td>Sun</td>\n",
       "      <td>Dinner</td>\n",
       "      <td>3</td>\n",
       "      <td>0.160542</td>\n",
       "    </tr>\n",
       "    <tr>\n",
       "      <th>2</th>\n",
       "      <td>21.01</td>\n",
       "      <td>3.50</td>\n",
       "      <td>Male</td>\n",
       "      <td>No</td>\n",
       "      <td>Sun</td>\n",
       "      <td>Dinner</td>\n",
       "      <td>3</td>\n",
       "      <td>0.166587</td>\n",
       "    </tr>\n",
       "    <tr>\n",
       "      <th>3</th>\n",
       "      <td>23.68</td>\n",
       "      <td>3.31</td>\n",
       "      <td>Male</td>\n",
       "      <td>No</td>\n",
       "      <td>Sun</td>\n",
       "      <td>Dinner</td>\n",
       "      <td>2</td>\n",
       "      <td>0.139780</td>\n",
       "    </tr>\n",
       "    <tr>\n",
       "      <th>4</th>\n",
       "      <td>24.59</td>\n",
       "      <td>3.61</td>\n",
       "      <td>Female</td>\n",
       "      <td>No</td>\n",
       "      <td>Sun</td>\n",
       "      <td>Dinner</td>\n",
       "      <td>4</td>\n",
       "      <td>0.146808</td>\n",
       "    </tr>\n",
       "    <tr>\n",
       "      <th>...</th>\n",
       "      <td>...</td>\n",
       "      <td>...</td>\n",
       "      <td>...</td>\n",
       "      <td>...</td>\n",
       "      <td>...</td>\n",
       "      <td>...</td>\n",
       "      <td>...</td>\n",
       "      <td>...</td>\n",
       "    </tr>\n",
       "    <tr>\n",
       "      <th>239</th>\n",
       "      <td>29.03</td>\n",
       "      <td>5.92</td>\n",
       "      <td>Male</td>\n",
       "      <td>No</td>\n",
       "      <td>Sat</td>\n",
       "      <td>Dinner</td>\n",
       "      <td>3</td>\n",
       "      <td>0.203927</td>\n",
       "    </tr>\n",
       "    <tr>\n",
       "      <th>240</th>\n",
       "      <td>27.18</td>\n",
       "      <td>2.00</td>\n",
       "      <td>Female</td>\n",
       "      <td>Yes</td>\n",
       "      <td>Sat</td>\n",
       "      <td>Dinner</td>\n",
       "      <td>2</td>\n",
       "      <td>0.073584</td>\n",
       "    </tr>\n",
       "    <tr>\n",
       "      <th>241</th>\n",
       "      <td>22.67</td>\n",
       "      <td>2.00</td>\n",
       "      <td>Male</td>\n",
       "      <td>Yes</td>\n",
       "      <td>Sat</td>\n",
       "      <td>Dinner</td>\n",
       "      <td>2</td>\n",
       "      <td>0.088222</td>\n",
       "    </tr>\n",
       "    <tr>\n",
       "      <th>242</th>\n",
       "      <td>17.82</td>\n",
       "      <td>1.75</td>\n",
       "      <td>Male</td>\n",
       "      <td>No</td>\n",
       "      <td>Sat</td>\n",
       "      <td>Dinner</td>\n",
       "      <td>2</td>\n",
       "      <td>0.098204</td>\n",
       "    </tr>\n",
       "    <tr>\n",
       "      <th>243</th>\n",
       "      <td>18.78</td>\n",
       "      <td>3.00</td>\n",
       "      <td>Female</td>\n",
       "      <td>No</td>\n",
       "      <td>Thur</td>\n",
       "      <td>Dinner</td>\n",
       "      <td>2</td>\n",
       "      <td>0.159744</td>\n",
       "    </tr>\n",
       "  </tbody>\n",
       "</table>\n",
       "<p>244 rows × 8 columns</p>\n",
       "</div>"
      ],
      "text/plain": [
       "     total_bill   tip     sex smoker   day    time  size  tips_rate\n",
       "0         16.99  1.01  Female     No   Sun  Dinner     2   0.059447\n",
       "1         10.34  1.66    Male     No   Sun  Dinner     3   0.160542\n",
       "2         21.01  3.50    Male     No   Sun  Dinner     3   0.166587\n",
       "3         23.68  3.31    Male     No   Sun  Dinner     2   0.139780\n",
       "4         24.59  3.61  Female     No   Sun  Dinner     4   0.146808\n",
       "..          ...   ...     ...    ...   ...     ...   ...        ...\n",
       "239       29.03  5.92    Male     No   Sat  Dinner     3   0.203927\n",
       "240       27.18  2.00  Female    Yes   Sat  Dinner     2   0.073584\n",
       "241       22.67  2.00    Male    Yes   Sat  Dinner     2   0.088222\n",
       "242       17.82  1.75    Male     No   Sat  Dinner     2   0.098204\n",
       "243       18.78  3.00  Female     No  Thur  Dinner     2   0.159744\n",
       "\n",
       "[244 rows x 8 columns]"
      ]
     },
     "execution_count": 124,
     "metadata": {},
     "output_type": "execute_result"
    }
   ],
   "source": [
    "    df = sns.load_dataset('tips')\n",
    "    df['tips_rate'] = df['tip'] / df['total_bill']\n",
    "    df"
   ]
  },
  {
   "cell_type": "markdown",
   "metadata": {},
   "source": [
    "## 推測統計　\n",
    "・推測統計は母集団に興味がある。記述統計では標本に興味がある。  \n",
    "・母集団と標本の関係  \n",
    "　　基本は母集団からの無作為抽出で標本を作成  \n",
    " 完全にランダムにするのは困難なので、ある程度ランダムになるように努力する  \n",
    " すでに標本がある場合は、むりのない範囲の母集団を設定する. \n",
    " 例）全国の小学生の知能レベルを推測するために、ランダムで複数の小学生を選択しその小学生からランダムに生徒を選ぶ. \n",
    "\n",
    "・分布の特徴を表す値を統計量という（平均や標準偏差など）. \n",
    "・標本から計算された統計量を標本統計量という. \n",
    "・母集団の統計量を母数という. "
   ]
  },
  {
   "cell_type": "markdown",
   "metadata": {},
   "source": [
    "## 標本分布\n",
    "・標本の中身は確率的に変動する  \n",
    "・標本統計量も同様に確率的に変動する値（つまり確率変数）  \n",
    "・標本統計量が従う確率分布を標本分布と呼ぶ（標本分布は理論上の分布である）  \n",
    "例）全国の成人男性をランダムに抽出した時の各標本の身長の平均値  "
   ]
  },
  {
   "cell_type": "markdown",
   "metadata": {},
   "source": [
    "## 推定量(estimator)  \n",
    "・母数の推定に使う標本統計量という  \n",
    "・実際の値を推定値という  \n",
    "例）全国の成人男性の平均身長を推定するのに、ランダムに抽出した時の標本の平均値を使える  \n",
    "\n",
    "\n",
    "## 不偏性(unbiasedness)  \n",
    "・推定量が’平均的に’母数と一致する場合、その推定量は「不偏性がある」という  \n",
    "・不偏性がある推定量を不偏推定量とよぶ  \n",
    "・確率の文脈では平均のことを期待値と呼ぶ  "
   ]
  },
  {
   "cell_type": "markdown",
   "metadata": {},
   "source": [
    "# 平均の標本分布"
   ]
  },
  {
   "cell_type": "code",
   "execution_count": 125,
   "metadata": {},
   "outputs": [],
   "source": [
    "n = 50\n",
    "sample_size = 100\n",
    "column = 'tip'\n",
    "sample_means = []\n",
    "for i in range(sample_size):\n",
    "    sampled_df = df.sample(n)\n",
    "    sample_mean = sampled_df[column].mean()\n",
    "    sample_means.append(sample_mean)"
   ]
  },
  {
   "cell_type": "code",
   "execution_count": 126,
   "metadata": {},
   "outputs": [
    {
     "data": {
      "text/plain": [
       "3.0027500000000003"
      ]
     },
     "execution_count": 126,
     "metadata": {},
     "output_type": "execute_result"
    }
   ],
   "source": [
    "# 平均\n",
    "np.mean(sample_means)"
   ]
  },
  {
   "cell_type": "code",
   "execution_count": 127,
   "metadata": {},
   "outputs": [
    {
     "data": {
      "text/plain": [
       "2.9982786885245902"
      ]
     },
     "execution_count": 127,
     "metadata": {},
     "output_type": "execute_result"
    }
   ],
   "source": [
    "# 母平均\n",
    "df[column].mean()"
   ]
  },
  {
   "cell_type": "code",
   "execution_count": 128,
   "metadata": {},
   "outputs": [
    {
     "data": {
      "text/plain": [
       "0.030808507499999967"
      ]
     },
     "execution_count": 128,
     "metadata": {},
     "output_type": "execute_result"
    }
   ],
   "source": [
    "# 分散\n",
    "np.var(sample_means)"
   ]
  },
  {
   "cell_type": "code",
   "execution_count": 129,
   "metadata": {},
   "outputs": [
    {
     "data": {
      "text/plain": [
       "0.03813217024993285"
      ]
     },
     "execution_count": 129,
     "metadata": {},
     "output_type": "execute_result"
    }
   ],
   "source": [
    "# 母平均\n",
    "np.var(df[column])/n"
   ]
  },
  {
   "cell_type": "code",
   "execution_count": 130,
   "metadata": {},
   "outputs": [
    {
     "data": {
      "text/plain": [
       "<matplotlib.axes._subplots.AxesSubplot at 0x7fffca5075d0>"
      ]
     },
     "execution_count": 130,
     "metadata": {},
     "output_type": "execute_result"
    },
    {
     "data": {
      "image/png": "[encoded data removed]",
      "text/plain": [
       "<Figure size 432x288 with 1 Axes>"
      ]
     },
     "metadata": {
      "needs_background": "light"
     },
     "output_type": "display_data"
    }
   ],
   "source": [
    "sns.distplot(sample_means)"
   ]
  },
  {
   "cell_type": "markdown",
   "metadata": {},
   "source": [
    "# 不偏分散（unbiased variance)  \n",
    "・母分散の不偏推定量  \n",
    "・不偏分散は、分散の式に置いてnではなんくてn-1で割った値  \n",
    "・通常の不偏分散をs2で表し、不偏分散s’２で表す  \n",
    "・過小評価してしまった分散にn/n-1をかけることで補正する（つまりnではなくてn-1で割る）.   \n",
    "・それはなぜか？分散を計算する際に母平均μの代わりに標本平均を使っていることにより、分散が過小評価されてしまっていることはが理由  \n",
    "\n",
    "\n",
    "# 不偏分散の平方根の不偏性\n",
    "・不偏分散の平方根は母集団の標準偏差σの不偏推定量にはならない、　σ ≠ s’  \n",
    "・不偏分散の平方根を「不偏標準偏差」と呼ぶのは間違いである.   \n",
    "・ただ不偏標準偏差とは呼ばず、不偏分散の平方根である。推定に使われることもあるが、不偏性はないので気を付ける必要がある。"
   ]
  },
  {
   "cell_type": "code",
   "execution_count": 131,
   "metadata": {},
   "outputs": [
    {
     "data": {
      "text/plain": [
       "1.914454638062471"
      ]
     },
     "execution_count": 131,
     "metadata": {},
     "output_type": "execute_result"
    }
   ],
   "source": [
    "stats.tvar(df['tip']) # 不偏分散 こっちを使おう"
   ]
  },
  {
   "cell_type": "code",
   "execution_count": 132,
   "metadata": {},
   "outputs": [
    {
     "data": {
      "text/plain": [
       "1.9144546380624725"
      ]
     },
     "execution_count": 132,
     "metadata": {},
     "output_type": "execute_result"
    }
   ],
   "source": [
    "np.var(df['tip'], ddof=1) # 不偏分散"
   ]
  },
  {
   "cell_type": "code",
   "execution_count": 133,
   "metadata": {},
   "outputs": [
    {
     "data": {
      "text/plain": [
       "1.3836381890011822"
      ]
     },
     "execution_count": 133,
     "metadata": {},
     "output_type": "execute_result"
    }
   ],
   "source": [
    "np.sqrt(stats.tvar(df['tip'])) #　不偏分散の平方根"
   ]
  },
  {
   "cell_type": "code",
   "execution_count": 134,
   "metadata": {},
   "outputs": [
    {
     "data": {
      "text/plain": [
       "1.3836381890011822"
      ]
     },
     "execution_count": 134,
     "metadata": {},
     "output_type": "execute_result"
    }
   ],
   "source": [
    "stats.tstd(df['tip']) #　不偏分散の平方根　こっちを使おう"
   ]
  },
  {
   "cell_type": "code",
   "execution_count": 135,
   "metadata": {},
   "outputs": [
    {
     "data": {
      "text/plain": [
       "1.3836381890011826"
      ]
     },
     "execution_count": 135,
     "metadata": {},
     "output_type": "execute_result"
    }
   ],
   "source": [
    "np.std(df['tip'], ddof=1) #　不偏分散の平方根"
   ]
  },
  {
   "cell_type": "code",
   "execution_count": 136,
   "metadata": {},
   "outputs": [],
   "source": [
    "sample_size = 100\n",
    "n = 50\n",
    "column = 'tip'\n",
    "sample_uvars = []\n",
    "sample_vars = []\n",
    "for i in range(sample_size):\n",
    "    sampled_df = df.sample(n);\n",
    "    sample_uvar = stats.tvar(sampled_df[column])\n",
    "    sample_uvars.append(sample_uvar)\n",
    "    \n",
    "    sample_var = np.var(sampled_df[column])\n",
    "    sample_vars.append(sample_var) "
   ]
  },
  {
   "cell_type": "code",
   "execution_count": 137,
   "metadata": {},
   "outputs": [
    {
     "data": {
      "text/plain": [
       "1.8988306653061224"
      ]
     },
     "execution_count": 137,
     "metadata": {},
     "output_type": "execute_result"
    }
   ],
   "source": [
    "np.mean(sample_uvars) # 標本の不偏分散の平均"
   ]
  },
  {
   "cell_type": "code",
   "execution_count": 138,
   "metadata": {},
   "outputs": [
    {
     "data": {
      "text/plain": [
       "1.8608540520000003"
      ]
     },
     "execution_count": 138,
     "metadata": {},
     "output_type": "execute_result"
    }
   ],
   "source": [
    "np.mean(sample_vars) #標本の分散の平均"
   ]
  },
  {
   "cell_type": "code",
   "execution_count": 139,
   "metadata": {},
   "outputs": [
    {
     "data": {
      "text/plain": [
       "1.9066085124966428"
      ]
     },
     "execution_count": 139,
     "metadata": {},
     "output_type": "execute_result"
    }
   ],
   "source": [
    "np.var(df[column]) # 母分散"
   ]
  },
  {
   "cell_type": "markdown",
   "metadata": {},
   "source": [
    "## まとめ  \n",
    "・統計量：分布の特徴を表す値（平均や標準偏差など）  \n",
    "・標本統計量：標本から計算された統計量を標本統計量という  \n",
    "・母数：母集団の統計量  \n",
    "・基本は母集団からの無作為抽出で標本を作成  \n",
    "・推定量：母数の推定にしたがう標本統計量  \n",
    "・不偏性：推定量が平均的に母数と一致する  \n",
    "・標本分布：標本統計量が従う確率分布  \n",
    "\n",
    "\n",
    "母平均μ　　-> 標本平均xバー　（不偏推定量）  \n",
    "母比率π　　-> 標本比率p　（不偏推定量）  \n",
    "母相関係数ρ　　-> 標本相関係数r　  \n",
    "母分散σ**2　　-> 不偏分散s｀＊＊2　（不偏推定量）  \n",
    "母標準偏差σ　　-> 不偏分散の平方根s｀  "
   ]
  },
  {
   "cell_type": "markdown",
   "metadata": {},
   "source": [
    "## 推測統計\n",
    "・推測統計は、統計学を学ぶ一番のモチベーション  \n",
    "・統計学において最も重要な分野の一つ  \n",
    "・推測統計には大きく「検定」と「推定」がある  \n",
    "・推定には点推定と区間推定がある. \n",
    "・母集団の母数を調べる\n"
   ]
  },
  {
   "cell_type": "markdown",
   "metadata": {},
   "source": [
    "## 比率の区間推定\n",
    "・標本の比の値から母集団の比率の値を推定\n",
    "・母数の値を区間を持って推定すること（例：母比率は０．５〜０．７である）  \n",
    "・区間と共に角度をつける（例：９５％の角度で母比率は０．５〜０．７である）  \n",
    "・この区間を信頼区間（CI: confidence interval)という（例：９５％信頼区間で母比率は０．５〜０．７である）  \n",
    "・９５％の信頼区間とは100回に5回は間違えるということであり、９５％の確率で母数がこの区間にあるという意味ではない。これでは母数が変動することになってしまうから  \n",
    "・標本推定量の標本分布を使って区間推定を行う  \n",
    "・二項分布はnが十分大きい時、正規分布に近似できる。"
   ]
  },
  {
   "cell_type": "markdown",
   "metadata": {},
   "source": [
    "１、標本を無作為抽出する（もしくは母集団の設定）  \n",
    "例）世間の内閣支持率を調査する場合、全有権者から１０００人ランダムに選ぶ  \n",
    "\n",
    "\n",
    "２、標本から推定量（標本比率）を計算する  \n",
    "例）１０００人中６００人が「支持」である場合、標本比率は０．６  \n",
    "\n",
    "\n",
    "３、信頼区間を設定する  \n",
    "例）得に理由がなければ９５％を設定  \n",
    "\n",
    "\n",
    "４、推定量の標本分布を求める　　  \n",
    "例）nが十分大きい時平均p、分散pq/nの正規分布に近似できる　　  \n",
    "\n",
    "\n",
    "５、信頼区間の値を標本分布から算出　　  \n",
    "例）比率の標本平均を標準変化し、標準正規分布を計算し、９５％区間となる値を算出する　　  "
   ]
  },
  {
   "cell_type": "code",
   "execution_count": 140,
   "metadata": {},
   "outputs": [
    {
     "data": {
      "text/plain": [
       "(570.0, 630.0)"
      ]
     },
     "execution_count": 140,
     "metadata": {},
     "output_type": "execute_result"
    }
   ],
   "source": [
    "# stats.binom.interval(alpha, n, p)　比率の区間推定\n",
    "stats.binom.interval(0.95, 1000, 0.6)"
   ]
  },
  {
   "cell_type": "code",
   "execution_count": 141,
   "metadata": {},
   "outputs": [
    {
     "data": {
      "text/plain": [
       "(560.0, 640.0)"
      ]
     },
     "execution_count": 141,
     "metadata": {},
     "output_type": "execute_result"
    }
   ],
   "source": [
    "stats.binom.interval(0.99, 1000, 0.6)"
   ]
  },
  {
   "cell_type": "code",
   "execution_count": 142,
   "metadata": {},
   "outputs": [],
   "source": [
    "n = 50\n",
    "m = 100\n",
    "column = 'sex'\n",
    "alpha = 0.95\n",
    "population_male_ration = len(df[df['sex'] == 'Male'])/len(df) #これが母比率\n",
    "results = []\n",
    "\n",
    "for _ in range(m):\n",
    "    sampled_df = df.sample(n)\n",
    "    male_ratio = len(sampled_df[sampled_df[column] == 'Male'])/len(sampled_df)\n",
    "    min_num, max_num = stats.binom.interval(alpha, n=n, p=male_ratio)\n",
    "    min_ratio = min_num/n\n",
    "    max_ratio = max_num/n\n",
    "\n",
    "    # 区間推定判定\n",
    "    correct = min_ratio < population_male_ration < max_ratio\n",
    "    results.append({'min': min_ratio, 'max': max_ratio, 'correct': correct})"
   ]
  },
  {
   "cell_type": "code",
   "execution_count": 143,
   "metadata": {},
   "outputs": [],
   "source": [
    "result_df = pd.DataFrame(results)"
   ]
  },
  {
   "cell_type": "code",
   "execution_count": 144,
   "metadata": {},
   "outputs": [
    {
     "data": {
      "text/html": [
       "<div>\n",
       "<style scoped>\n",
       "    .dataframe tbody tr th:only-of-type {\n",
       "        vertical-align: middle;\n",
       "    }\n",
       "\n",
       "    .dataframe tbody tr th {\n",
       "        vertical-align: top;\n",
       "    }\n",
       "\n",
       "    .dataframe thead th {\n",
       "        text-align: right;\n",
       "    }\n",
       "</style>\n",
       "<table border=\"1\" class=\"dataframe\">\n",
       "  <thead>\n",
       "    <tr style=\"text-align: right;\">\n",
       "      <th></th>\n",
       "      <th>min</th>\n",
       "      <th>max</th>\n",
       "      <th>correct</th>\n",
       "    </tr>\n",
       "  </thead>\n",
       "  <tbody>\n",
       "    <tr>\n",
       "      <th>0</th>\n",
       "      <td>0.46</td>\n",
       "      <td>0.74</td>\n",
       "      <td>True</td>\n",
       "    </tr>\n",
       "    <tr>\n",
       "      <th>1</th>\n",
       "      <td>0.52</td>\n",
       "      <td>0.78</td>\n",
       "      <td>True</td>\n",
       "    </tr>\n",
       "    <tr>\n",
       "      <th>2</th>\n",
       "      <td>0.64</td>\n",
       "      <td>0.88</td>\n",
       "      <td>True</td>\n",
       "    </tr>\n",
       "    <tr>\n",
       "      <th>3</th>\n",
       "      <td>0.46</td>\n",
       "      <td>0.74</td>\n",
       "      <td>True</td>\n",
       "    </tr>\n",
       "    <tr>\n",
       "      <th>4</th>\n",
       "      <td>0.56</td>\n",
       "      <td>0.82</td>\n",
       "      <td>True</td>\n",
       "    </tr>\n",
       "    <tr>\n",
       "      <th>...</th>\n",
       "      <td>...</td>\n",
       "      <td>...</td>\n",
       "      <td>...</td>\n",
       "    </tr>\n",
       "    <tr>\n",
       "      <th>95</th>\n",
       "      <td>0.52</td>\n",
       "      <td>0.78</td>\n",
       "      <td>True</td>\n",
       "    </tr>\n",
       "    <tr>\n",
       "      <th>96</th>\n",
       "      <td>0.52</td>\n",
       "      <td>0.78</td>\n",
       "      <td>True</td>\n",
       "    </tr>\n",
       "    <tr>\n",
       "      <th>97</th>\n",
       "      <td>0.52</td>\n",
       "      <td>0.78</td>\n",
       "      <td>True</td>\n",
       "    </tr>\n",
       "    <tr>\n",
       "      <th>98</th>\n",
       "      <td>0.52</td>\n",
       "      <td>0.78</td>\n",
       "      <td>True</td>\n",
       "    </tr>\n",
       "    <tr>\n",
       "      <th>99</th>\n",
       "      <td>0.36</td>\n",
       "      <td>0.64</td>\n",
       "      <td>False</td>\n",
       "    </tr>\n",
       "  </tbody>\n",
       "</table>\n",
       "<p>100 rows × 3 columns</p>\n",
       "</div>"
      ],
      "text/plain": [
       "     min   max  correct\n",
       "0   0.46  0.74     True\n",
       "1   0.52  0.78     True\n",
       "2   0.64  0.88     True\n",
       "3   0.46  0.74     True\n",
       "4   0.56  0.82     True\n",
       "..   ...   ...      ...\n",
       "95  0.52  0.78     True\n",
       "96  0.52  0.78     True\n",
       "97  0.52  0.78     True\n",
       "98  0.52  0.78     True\n",
       "99  0.36  0.64    False\n",
       "\n",
       "[100 rows x 3 columns]"
      ]
     },
     "execution_count": 144,
     "metadata": {},
     "output_type": "execute_result"
    }
   ],
   "source": [
    "result_df "
   ]
  },
  {
   "cell_type": "code",
   "execution_count": 145,
   "metadata": {},
   "outputs": [
    {
     "data": {
      "text/plain": [
       "True     98\n",
       "False     2\n",
       "Name: correct, dtype: int64"
      ]
     },
     "execution_count": 145,
     "metadata": {},
     "output_type": "execute_result"
    }
   ],
   "source": [
    "result_df['correct'].value_counts()"
   ]
  },
  {
   "cell_type": "markdown",
   "metadata": {},
   "source": [
    "## 平均値の区間推定  \n",
    "- 標本の平均値から母集団の平均値を推定する  \n",
    "- 実際に平均値の区間推定が応用されている例は多い（平均身長、平均体重、平均年収）  \n",
    "- 平均の標本分布を考える。正規分布になるとは限らない  \n",
    "- 母集団が正規分布であれば平均の標本分布は正規分布になる   \n",
    "\n",
    "\n",
    "## 中心極限定理  \n",
    "- 母集団が正規分布でなくても、標本のサイズが大きければ平均の標本分布に近似できる。つまり標本サイズが大きければ平均の標本分布は正規分布に近似できる\n",
    "- 例えば世帯年収とかは正規分布ではない。しかし標本サイズが大きければ平均の標本分布は正規分布に近似できる。母集団がどんな分布であろうとも\n",
    "- z = 標本平均　- μ/不偏分散の平方根s｀/√n   "
   ]
  },
  {
   "cell_type": "code",
   "execution_count": 162,
   "metadata": {},
   "outputs": [],
   "source": [
    "# stats.norm.interval(alpha, n, p)　平均の区間推定\n",
    "\n",
    "n = 50\n",
    "m = 100\n",
    "alpha = 0.95\n",
    "column = 'tip'\n",
    "results = []\n",
    "population_mean = df[column].mean()\n",
    "\n",
    "for _ in range(m):\n",
    "    sample_df = df.sample(n)\n",
    "    sample_mean = sample_df[column].mean()\n",
    "    sample_var = stats.tvar(sample_df[column])\n",
    "    min_val, max_val = stats.norm.interval(alpha, loc=sample_mean, scale=np.sqrt(sample_var/n))\n",
    "    correct = min_val < population_mean < max_val\n",
    "    results.append({'min': min_ratio, 'max': max_ratio, 'correct': correct})"
   ]
  },
  {
   "cell_type": "code",
   "execution_count": 169,
   "metadata": {},
   "outputs": [
    {
     "data": {
      "text/html": [
       "<div>\n",
       "<style scoped>\n",
       "    .dataframe tbody tr th:only-of-type {\n",
       "        vertical-align: middle;\n",
       "    }\n",
       "\n",
       "    .dataframe tbody tr th {\n",
       "        vertical-align: top;\n",
       "    }\n",
       "\n",
       "    .dataframe thead th {\n",
       "        text-align: right;\n",
       "    }\n",
       "</style>\n",
       "<table border=\"1\" class=\"dataframe\">\n",
       "  <thead>\n",
       "    <tr style=\"text-align: right;\">\n",
       "      <th></th>\n",
       "      <th>min</th>\n",
       "      <th>max</th>\n",
       "      <th>correct</th>\n",
       "    </tr>\n",
       "  </thead>\n",
       "  <tbody>\n",
       "    <tr>\n",
       "      <th>0</th>\n",
       "      <td>0.36</td>\n",
       "      <td>0.64</td>\n",
       "      <td>True</td>\n",
       "    </tr>\n",
       "    <tr>\n",
       "      <th>1</th>\n",
       "      <td>0.36</td>\n",
       "      <td>0.64</td>\n",
       "      <td>True</td>\n",
       "    </tr>\n",
       "    <tr>\n",
       "      <th>2</th>\n",
       "      <td>0.36</td>\n",
       "      <td>0.64</td>\n",
       "      <td>False</td>\n",
       "    </tr>\n",
       "    <tr>\n",
       "      <th>3</th>\n",
       "      <td>0.36</td>\n",
       "      <td>0.64</td>\n",
       "      <td>True</td>\n",
       "    </tr>\n",
       "    <tr>\n",
       "      <th>4</th>\n",
       "      <td>0.36</td>\n",
       "      <td>0.64</td>\n",
       "      <td>True</td>\n",
       "    </tr>\n",
       "    <tr>\n",
       "      <th>...</th>\n",
       "      <td>...</td>\n",
       "      <td>...</td>\n",
       "      <td>...</td>\n",
       "    </tr>\n",
       "    <tr>\n",
       "      <th>95</th>\n",
       "      <td>0.36</td>\n",
       "      <td>0.64</td>\n",
       "      <td>True</td>\n",
       "    </tr>\n",
       "    <tr>\n",
       "      <th>96</th>\n",
       "      <td>0.36</td>\n",
       "      <td>0.64</td>\n",
       "      <td>True</td>\n",
       "    </tr>\n",
       "    <tr>\n",
       "      <th>97</th>\n",
       "      <td>0.36</td>\n",
       "      <td>0.64</td>\n",
       "      <td>True</td>\n",
       "    </tr>\n",
       "    <tr>\n",
       "      <th>98</th>\n",
       "      <td>0.36</td>\n",
       "      <td>0.64</td>\n",
       "      <td>True</td>\n",
       "    </tr>\n",
       "    <tr>\n",
       "      <th>99</th>\n",
       "      <td>0.36</td>\n",
       "      <td>0.64</td>\n",
       "      <td>True</td>\n",
       "    </tr>\n",
       "  </tbody>\n",
       "</table>\n",
       "<p>100 rows × 3 columns</p>\n",
       "</div>"
      ],
      "text/plain": [
       "     min   max  correct\n",
       "0   0.36  0.64     True\n",
       "1   0.36  0.64     True\n",
       "2   0.36  0.64    False\n",
       "3   0.36  0.64     True\n",
       "4   0.36  0.64     True\n",
       "..   ...   ...      ...\n",
       "95  0.36  0.64     True\n",
       "96  0.36  0.64     True\n",
       "97  0.36  0.64     True\n",
       "98  0.36  0.64     True\n",
       "99  0.36  0.64     True\n",
       "\n",
       "[100 rows x 3 columns]"
      ]
     },
     "execution_count": 169,
     "metadata": {},
     "output_type": "execute_result"
    }
   ],
   "source": [
    "result_df = pd.DataFrame(results)\n",
    "result_df"
   ]
  },
  {
   "cell_type": "code",
   "execution_count": 170,
   "metadata": {},
   "outputs": [
    {
     "data": {
      "text/plain": [
       "True     96\n",
       "False     4\n",
       "Name: correct, dtype: int64"
      ]
     },
     "execution_count": 170,
     "metadata": {},
     "output_type": "execute_result"
    }
   ],
   "source": [
    "result_df['correct'].value_counts()"
   ]
  },
  {
   "cell_type": "markdown",
   "metadata": {},
   "source": [
    "## t分布  \n",
    "- 自由度n-1をパラメータにとる  \n",
    "- 標準正規分布に比べ、視野が広くなる  \n",
    "- 視野が広い＝同じ信頼区間で、とりうる区間が広くなる＝推定が曖昧になる  \n",
    "- nが大きくなると視野が狭くなり、推定区間も狭くなる   \n",
    "- 母標準偏差σの代わりに不偏分散s‘**2　の平方根s‘を大要数\n",
    "- 視野が広い＝同じ信頼区間で、とりうる区間が広くなる＝推定が曖昧になる  \n",
    "- nが大きいと視野がσまくなり、推定区間も狭くなる=nが大きければ大きいほど、推定が正確になる"
   ]
  },
  {
   "cell_type": "code",
   "execution_count": 185,
   "metadata": {},
   "outputs": [
    {
     "data": {
      "text/plain": [
       "<matplotlib.legend.Legend at 0x7fffc9a0b810>"
      ]
     },
     "execution_count": 185,
     "metadata": {},
     "output_type": "execute_result"
    },
    {
     "data": {
      "image/png": "[encoded data removed]",
      "text/plain": [
       "<Figure size 432x288 with 1 Axes>"
      ]
     },
     "metadata": {
      "needs_background": "light"
     },
     "output_type": "display_data"
    }
   ],
   "source": [
    "# stats.t(df) t分布\n",
    "x = np.linspace(-3, 3, 100)\n",
    "z = stats.norm.pdf(x)\n",
    "for dof in range(1, 12, 5):\n",
    "    t = stats.t(dof).pdf(x)\n",
    "    plt.plot(x, t, label=f\"t dist(dof={dof})\")\n",
    "plt.plot(x, z, label=\"std norm\", linewidth=3)\n",
    "plt.legend() # ラベルをつける"
   ]
  },
  {
   "cell_type": "markdown",
   "metadata": {},
   "source": [
    "## 平均の区間推定（正規分布 VS t分布）"
   ]
  },
  {
   "cell_type": "code",
   "execution_count": 200,
   "metadata": {},
   "outputs": [],
   "source": [
    "column = 'tip'\n",
    "n = 50\n",
    "alpha = 0.95\n",
    "population_mean = df[column].mean()\n",
    "\n",
    "sample_df = df.sample(n)\n",
    "sanple_mean = sample_df[column].mean()\n",
    "sample_var = stats.tvar(sample_df[column])\n",
    "# 正規分布\n",
    "min_val_norm, max_val_norm = stats.norm.interval(alpha, loc=sample_mean, scale=np.sqrt(sample_var/n))\n",
    "# t分布\n",
    "min_val_t, max_val_t = stats.t.interval(alpha, loc=sample_mean, scale=np.sqrt(sample_var/n), df=n-1)"
   ]
  },
  {
   "cell_type": "code",
   "execution_count": 201,
   "metadata": {},
   "outputs": [
    {
     "data": {
      "text/plain": [
       "2.9982786885245902"
      ]
     },
     "execution_count": 201,
     "metadata": {},
     "output_type": "execute_result"
    }
   ],
   "source": [
    "population_mean"
   ]
  },
  {
   "cell_type": "code",
   "execution_count": 203,
   "metadata": {},
   "outputs": [
    {
     "data": {
      "text/plain": [
       "3.1357999999999997"
      ]
     },
     "execution_count": 203,
     "metadata": {},
     "output_type": "execute_result"
    }
   ],
   "source": [
    "sample_mean"
   ]
  },
  {
   "cell_type": "code",
   "execution_count": 204,
   "metadata": {},
   "outputs": [
    {
     "name": "stdout",
     "output_type": "stream",
     "text": [
      "2.740118431426907 3.5314815685730925\n"
     ]
    }
   ],
   "source": [
    "print(min_val_norm, max_val_norm)"
   ]
  },
  {
   "cell_type": "code",
   "execution_count": 206,
   "metadata": {},
   "outputs": [
    {
     "name": "stdout",
     "output_type": "stream",
     "text": [
      "2.7301028100412106 3.541497189958789\n"
     ]
    }
   ],
   "source": [
    "print(min_val_t, max_val_t)\n",
    "# t分布は正規分布よりも裾が広くなっているので視野が広い"
   ]
  }
 ],
 "metadata": {
  "kernelspec": {
   "display_name": "Python 3",
   "language": "python",
   "name": "python3"
  },
  "language_info": {
   "codemirror_mode": {
    "name": "ipython",
    "version": 3
   },
   "file_extension": ".py",
   "mimetype": "text/x-python",
   "name": "python",
   "nbconvert_exporter": "python",
   "pygments_lexer": "ipython3",
   "version": "3.7.6"
  }
 },
 "nbformat": 4,
 "nbformat_minor": 4
}
