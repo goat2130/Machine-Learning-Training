{
 "cells": [
  {
   "cell_type": "code",
   "execution_count": 2,
   "id": "01b0dca4-5803-463c-b74f-6009f3969bcd",
   "metadata": {},
   "outputs": [
    {
     "name": "stdout",
     "output_type": "stream",
     "text": [
      "Hello world\n"
     ]
    }
   ],
   "source": [
    "print(\"Hello world\")"
   ]
  },
  {
   "cell_type": "code",
   "execution_count": 3,
   "id": "17751724-0da3-4bcc-84cb-33853447b922",
   "metadata": {},
   "outputs": [
    {
     "name": "stdout",
     "output_type": "stream",
     "text": [
      "2\n"
     ]
    }
   ],
   "source": [
    "print(1+1)"
   ]
  },
  {
   "cell_type": "code",
   "execution_count": 4,
   "id": "2a7249ce-6a51-4fd2-a6a5-ee35e30d6c49",
   "metadata": {},
   "outputs": [
    {
     "name": "stdout",
     "output_type": "stream",
     "text": [
      "10\n"
     ]
    }
   ],
   "source": [
    "print(2 * 5)"
   ]
  },
  {
   "cell_type": "code",
   "execution_count": 5,
   "id": "21928a85-220c-4da2-9a28-33f74c49525b",
   "metadata": {},
   "outputs": [
    {
     "name": "stdout",
     "output_type": "stream",
     "text": [
      "4\n"
     ]
    }
   ],
   "source": [
    "print(2 ** 2)"
   ]
  },
  {
   "cell_type": "code",
   "execution_count": 6,
   "id": "2988eb16-1411-4a81-9bcc-f563269a53f0",
   "metadata": {},
   "outputs": [
    {
     "name": "stdout",
     "output_type": "stream",
     "text": [
      "test\n"
     ]
    }
   ],
   "source": [
    "msg = 'test'\n",
    "print(msg)"
   ]
  },
  {
   "cell_type": "code",
   "execution_count": 7,
   "id": "5bee6c18-d029-4580-86e0-612761ad24d7",
   "metadata": {},
   "outputs": [
    {
     "data": {
      "text/plain": [
       "'t'"
      ]
     },
     "execution_count": 7,
     "metadata": {},
     "output_type": "execute_result"
    }
   ],
   "source": [
    "msg[0]"
   ]
  },
  {
   "cell_type": "code",
   "execution_count": 8,
   "id": "361b7e8e-9624-4b1b-bd84-216ff6c33a6b",
   "metadata": {},
   "outputs": [
    {
     "data": {
      "text/plain": [
       "'e'"
      ]
     },
     "execution_count": 8,
     "metadata": {},
     "output_type": "execute_result"
    }
   ],
   "source": [
    "msg[1]"
   ]
  },
  {
   "cell_type": "code",
   "execution_count": 47,
   "id": "c4f4ab26-23d0-4894-a74e-a7e3da00ef4a",
   "metadata": {},
   "outputs": [
    {
     "name": "stdout",
     "output_type": "stream",
     "text": [
      "[1, 2, 3, 4, 5, 6, 7, 8]\n",
      "<class 'list'>\n",
      "[1, 2, 3, 4, 5, 6, 7, 8]\n",
      "8\n"
     ]
    }
   ],
   "source": [
    "data_list = [1, 2, 3, 4, 5, 6, 7, 8]\n",
    "print(data_list)\n",
    "print(type(data_list))\n",
    "print(data_list[:])\n",
    "print(len(data_list))"
   ]
  },
  {
   "cell_type": "code",
   "execution_count": 48,
   "id": "8b856d85-82dc-4f11-b54b-70c0d524888a",
   "metadata": {},
   "outputs": [
    {
     "data": {
      "text/plain": [
       "[1, 2, 3, 4, 5, 6, 7, 8, 1, 2, 3, 4, 5, 6, 7, 8]"
      ]
     },
     "execution_count": 48,
     "metadata": {},
     "output_type": "execute_result"
    }
   ],
   "source": [
    "data_list * 2"
   ]
  },
  {
   "cell_type": "code",
   "execution_count": 49,
   "id": "fb75f249-c291-4220-83cf-71e3fe126079",
   "metadata": {},
   "outputs": [],
   "source": [
    "data_list.append(9)"
   ]
  },
  {
   "cell_type": "code",
   "execution_count": 50,
   "id": "33b8c550-b04e-4285-959f-37df781e713c",
   "metadata": {},
   "outputs": [
    {
     "name": "stdout",
     "output_type": "stream",
     "text": [
      "9\n",
      "[1, 2, 3, 4, 5, 6, 7, 8]\n"
     ]
    }
   ],
   "source": [
    "pop_int = data_list.pop(-1)\n",
    "print(pop_int)\n",
    "print(data_list)"
   ]
  },
  {
   "cell_type": "code",
   "execution_count": 51,
   "id": "66708d2b-08df-4062-a8c7-02d1056175e1",
   "metadata": {},
   "outputs": [
    {
     "name": "stdout",
     "output_type": "stream",
     "text": [
      "{'apple': 100, 'banana': 200, 'orange': 300}\n",
      "100\n",
      "300\n"
     ]
    }
   ],
   "source": [
    "dic_data = {'apple': 100, 'banana': 200, 'orange': 300}\n",
    "print(dic_data)\n",
    "print(dic_data['apple'])\n",
    "print(dic_data['orange'])"
   ]
  },
  {
   "cell_type": "code",
   "execution_count": 52,
   "id": "0a934d6f-376e-403a-96f1-043e4dbc1601",
   "metadata": {},
   "outputs": [
    {
     "name": "stdout",
     "output_type": "stream",
     "text": [
      "400\n"
     ]
    }
   ],
   "source": [
    "value = dic_data['apple']\n",
    "value += dic_data['orange']\n",
    "print(value)"
   ]
  },
  {
   "cell_type": "code",
   "execution_count": 53,
   "id": "9b8289f7-b7f0-4919-8f2b-738ecb93bdf1",
   "metadata": {},
   "outputs": [],
   "source": [
    "dic_data['melon'] = 400"
   ]
  },
  {
   "cell_type": "code",
   "execution_count": 54,
   "id": "db99d61f-e2e0-4bd3-a8c8-aeed4eabd03f",
   "metadata": {},
   "outputs": [],
   "source": [
    "dic_data.update(apple=500)"
   ]
  },
  {
   "cell_type": "code",
   "execution_count": 55,
   "id": "f2303f27-45e2-4dec-bc73-592998c3cd85",
   "metadata": {},
   "outputs": [
    {
     "data": {
      "text/plain": [
       "{'apple': 500, 'banana': 200, 'orange': 300, 'melon': 400}"
      ]
     },
     "execution_count": 55,
     "metadata": {},
     "output_type": "execute_result"
    }
   ],
   "source": [
    "dic_data"
   ]
  },
  {
   "cell_type": "code",
   "execution_count": 56,
   "id": "d3978fbd-3bc2-4fff-b910-8964861f6c76",
   "metadata": {},
   "outputs": [
    {
     "name": "stdout",
     "output_type": "stream",
     "text": [
      "yes\n"
     ]
    }
   ],
   "source": [
    "fill_value = 5\n",
    "\n",
    "if fill_value in data_list:\n",
    "    print(\"yes\")\n",
    "else:\n",
    "    print(\"no\")"
   ]
  },
  {
   "cell_type": "code",
   "execution_count": 57,
   "id": "d4bce348-2465-48f3-97d1-ce20de30f0a5",
   "metadata": {},
   "outputs": [
    {
     "name": "stdout",
     "output_type": "stream",
     "text": [
      "1\n",
      "2\n",
      "3\n",
      "4\n",
      "5\n",
      "6\n",
      "7\n",
      "8\n",
      "36\n",
      "10 1\n",
      "11 2\n",
      "12 3\n",
      "13 4\n",
      "14 5\n",
      "15 6\n",
      "16 7\n",
      "17 8\n"
     ]
    }
   ],
   "source": [
    "total = 0\n",
    "for i in data_list:\n",
    "    print(i)\n",
    "    total += i\n",
    "\n",
    "print(total)\n",
    "\n",
    "for i, num in enumerate(data_list, 10):\n",
    "    print(i, num)\n"
   ]
  },
  {
   "cell_type": "code",
   "execution_count": 58,
   "id": "a8e580f2-9ff7-41cd-a295-379ed85d4d7b",
   "metadata": {},
   "outputs": [
    {
     "name": "stdout",
     "output_type": "stream",
     "text": [
      "apple 500\n",
      "banana 200\n",
      "orange 300\n",
      "melon 400\n",
      "apple 500\n",
      "banana 200\n",
      "orange 300\n",
      "melon 400\n"
     ]
    }
   ],
   "source": [
    "for dic_key in dic_data:\n",
    "    print(dic_key, dic_data[dic_key])\n",
    "\n",
    "for dic_key, dic_value in dic_data.items():\n",
    "    print(dic_key, dic_value)"
   ]
  },
  {
   "cell_type": "code",
   "execution_count": 59,
   "id": "127e5211-a1e5-4111-8847-c9ba7abc8964",
   "metadata": {},
   "outputs": [
    {
     "name": "stdout",
     "output_type": "stream",
     "text": [
      "[2, 4, 6, 8, 10, 12, 14, 16]\n"
     ]
    }
   ],
   "source": [
    "data_list1 = []\n",
    "\n",
    "data_list = [i * 2 for i in data_list]\n",
    "print(data_list)"
   ]
  },
  {
   "cell_type": "code",
   "execution_count": 60,
   "id": "8c4ab6ea-a7d3-4d11-ad03-94b7984f66ac",
   "metadata": {},
   "outputs": [
    {
     "data": {
      "text/plain": [
       "[4, 8, 12, 16, 20, 24, 28, 32]"
      ]
     },
     "execution_count": 60,
     "metadata": {},
     "output_type": "execute_result"
    }
   ],
   "source": [
    "[i * 2 for i in data_list if i % 2 == 0]"
   ]
  },
  {
   "cell_type": "code",
   "execution_count": 61,
   "id": "cdadfcae-795c-463f-b77f-cbb3738601c0",
   "metadata": {},
   "outputs": [
    {
     "name": "stdout",
     "output_type": "stream",
     "text": [
      "1 and 11\n",
      "2 and 12\n",
      "3 and 13\n"
     ]
    }
   ],
   "source": [
    "for one, two in zip([1, 2, 3] ,[11, 12, 13]):\n",
    "    print(one, 'and' , two)"
   ]
  },
  {
   "cell_type": "code",
   "execution_count": 62,
   "id": "69536459-567f-4b44-9d0a-06ddfc54d442",
   "metadata": {},
   "outputs": [
    {
     "name": "stdout",
     "output_type": "stream",
     "text": [
      "1\n",
      "2\n",
      "3\n",
      "4\n",
      "5\n",
      "6\n",
      "7\n",
      "8\n",
      "9\n",
      "10\n",
      "最終的な数字は11\n"
     ]
    }
   ],
   "source": [
    "num = 1\n",
    "while num <= 10:\n",
    "    print(num)\n",
    "    num += 1\n",
    "\n",
    "print(f'最終的な数字は{num}')"
   ]
  },
  {
   "cell_type": "code",
   "execution_count": 63,
   "id": "015b7822-290f-4ddc-bc3b-0b84014adbf9",
   "metadata": {},
   "outputs": [],
   "source": [
    "def calc_multi(a, b):\n",
    "    return a + b"
   ]
  },
  {
   "cell_type": "code",
   "execution_count": 64,
   "id": "06bb22c7-9735-4988-9baa-341bad97e685",
   "metadata": {},
   "outputs": [
    {
     "data": {
      "text/plain": [
       "30"
      ]
     },
     "execution_count": 64,
     "metadata": {},
     "output_type": "execute_result"
    }
   ],
   "source": [
    "calc_multi(10, 20)"
   ]
  },
  {
   "cell_type": "code",
   "execution_count": 68,
   "id": "902b6dfe-4fc3-40a9-9fed-4b1745af3c7f",
   "metadata": {},
   "outputs": [],
   "source": [
    "def calc_fib(n):\n",
    "    if n == 1 or n == 2:\n",
    "        return 1\n",
    "    else:\n",
    "        return calc_fib(n - 1) + calc_fib(n - 2)"
   ]
  },
  {
   "cell_type": "code",
   "execution_count": 69,
   "id": "230fae4c-197c-43de-b970-b6be669b40f9",
   "metadata": {},
   "outputs": [
    {
     "data": {
      "text/plain": [
       "55"
      ]
     },
     "execution_count": 69,
     "metadata": {},
     "output_type": "execute_result"
    }
   ],
   "source": [
    "calc_fib(10)"
   ]
  },
  {
   "cell_type": "code",
   "execution_count": 70,
   "id": "2cb063e3-c5bf-4900-b43f-99c20dc5cc34",
   "metadata": {},
   "outputs": [
    {
     "data": {
      "text/plain": [
       "30"
      ]
     },
     "execution_count": 70,
     "metadata": {},
     "output_type": "execute_result"
    }
   ],
   "source": [
    "(lambda a, b: a * b)(3, 10)"
   ]
  },
  {
   "cell_type": "code",
   "execution_count": 71,
   "id": "bd528685-8600-4ff0-90d6-78fa5d5964fb",
   "metadata": {},
   "outputs": [],
   "source": [
    "def calc_double(x):\n",
    "    return x * 2\n"
   ]
  },
  {
   "cell_type": "code",
   "execution_count": 72,
   "id": "1191ce2d-7c46-416b-8be5-343c4ff16a7f",
   "metadata": {},
   "outputs": [
    {
     "name": "stdout",
     "output_type": "stream",
     "text": [
      "2\n",
      "4\n",
      "6\n",
      "8\n"
     ]
    }
   ],
   "source": [
    "for num in [1, 2, 3, 4]:\n",
    "    print(calc_double(num))"
   ]
  },
  {
   "cell_type": "code",
   "execution_count": 73,
   "id": "a472b595-395f-4dd5-9242-9ce25b38b029",
   "metadata": {},
   "outputs": [
    {
     "data": {
      "text/plain": [
       "[2, 4, 6, 8]"
      ]
     },
     "execution_count": 73,
     "metadata": {},
     "output_type": "execute_result"
    }
   ],
   "source": [
    "list(map(calc_double, [1, 2, 3, 4]))"
   ]
  },
  {
   "cell_type": "code",
   "execution_count": 74,
   "id": "14c02269-7a1b-4016-b39f-e3f18795f685",
   "metadata": {},
   "outputs": [
    {
     "data": {
      "text/plain": [
       "[2, 4, 6, 8]"
      ]
     },
     "execution_count": 74,
     "metadata": {},
     "output_type": "execute_result"
    }
   ],
   "source": [
    "list(map(lambda x: x * 2, [1, 2, 3, 4]))"
   ]
  },
  {
   "cell_type": "code",
   "execution_count": 79,
   "id": "c0a4b2c1-a401-41d0-b6a6-7e0b4483a440",
   "metadata": {},
   "outputs": [
    {
     "name": "stdout",
     "output_type": "stream",
     "text": [
      "d\n",
      "a\n",
      "t\n",
      "a\n",
      " \n",
      "s\n",
      "c\n",
      "i\n",
      "e\n",
      "n\n",
      "c\n",
      "e\n",
      "\n",
      "d\n",
      "a\n",
      "t\n",
      "a\n",
      " \n",
      "s\n",
      "c\n",
      "i\n",
      "e\n",
      "n\n",
      "c\n",
      "e\n"
     ]
    }
   ],
   "source": [
    "strings = 'data science'\n",
    "\n",
    "for i in strings:\n",
    "    print(i)\n",
    "print('')\n",
    "for i in range(0, len(strings)):\n",
    "    print(strings[i])"
   ]
  },
  {
   "cell_type": "code",
   "execution_count": 85,
   "id": "ddaf5484-02de-4bf7-8609-e6197efb9ebb",
   "metadata": {},
   "outputs": [
    {
     "name": "stdout",
     "output_type": "stream",
     "text": [
      "1275\n"
     ]
    }
   ],
   "source": [
    "a = 0\n",
    "for i in range(1, 51):\n",
    "    a += i\n",
    "\n",
    "print(a)"
   ]
  },
  {
   "cell_type": "code",
   "execution_count": 89,
   "id": "de51f38e-4834-4118-90a2-22ce3f904652",
   "metadata": {},
   "outputs": [
    {
     "name": "stdout",
     "output_type": "stream",
     "text": [
      "10 1000\n"
     ]
    }
   ],
   "source": [
    "class Printclass:\n",
    "    def print_me(self):\n",
    "        print(self.x, self.y)\n",
    "\n",
    "\n",
    "pl = Printclass()\n",
    "\n",
    "pl.x = 10\n",
    "pl.y = 1000\n",
    "pl.print_me()"
   ]
  },
  {
   "cell_type": "code",
   "execution_count": 91,
   "id": "6a82249e-806d-41f9-bdc8-34d4a4117206",
   "metadata": {},
   "outputs": [],
   "source": [
    "class MyCalcClass:\n",
    "\n",
    "    def __init__(self, x, y):\n",
    "        self.x = x\n",
    "        self.y = y\n",
    "\n",
    "\n",
    "    def cald_add(self, a, b):\n",
    "        return a + b\n",
    "\n",
    "\n",
    "    def calc_add2(self):\n",
    "        return self.x + self.y\n",
    "\n",
    "\n",
    "    def calc_multi(self, a, b):\n",
    "        return a * b\n",
    "\n",
    "\n",
    "    def calc_print(self, a):\n",
    "        print(a, self.y)"
   ]
  },
  {
   "cell_type": "code",
   "execution_count": 92,
   "id": "fa4b39fd-b78f-4f6d-8f96-1318274e152f",
   "metadata": {},
   "outputs": [],
   "source": [
    "instance1 = MyCalcClass(1, 2)\n",
    "instance2 = MyCalcClass(5, 10)"
   ]
  },
  {
   "cell_type": "code",
   "execution_count": 95,
   "id": "919b1c8a-38f9-4c82-904b-b18f03c53edc",
   "metadata": {},
   "outputs": [
    {
     "data": {
      "text/plain": [
       "30"
      ]
     },
     "execution_count": 95,
     "metadata": {},
     "output_type": "execute_result"
    }
   ],
   "source": [
    "instance1.cald_add(10, 20)"
   ]
  },
  {
   "cell_type": "code",
   "execution_count": 97,
   "id": "6439cbf9-4f15-495c-a39c-7eb2b7b9d0e5",
   "metadata": {},
   "outputs": [
    {
     "data": {
      "text/plain": [
       "3"
      ]
     },
     "execution_count": 97,
     "metadata": {},
     "output_type": "execute_result"
    }
   ],
   "source": [
    "instance1.calc_add2()"
   ]
  },
  {
   "cell_type": "code",
   "execution_count": 99,
   "id": "558ca7a6-b0f3-472b-bfd7-d80c993ecd1c",
   "metadata": {},
   "outputs": [
    {
     "data": {
      "text/plain": [
       "200"
      ]
     },
     "execution_count": 99,
     "metadata": {},
     "output_type": "execute_result"
    }
   ],
   "source": [
    "instance1.calc_multi(10, 20)"
   ]
  },
  {
   "cell_type": "code",
   "execution_count": 100,
   "id": "14bceaf0-a6e6-41e9-8c89-bcbfa060c78e",
   "metadata": {},
   "outputs": [
    {
     "name": "stdout",
     "output_type": "stream",
     "text": [
      "5 2\n"
     ]
    }
   ],
   "source": [
    "instance1.calc_print(5)"
   ]
  },
  {
   "cell_type": "code",
   "execution_count": 102,
   "id": "b962f884-675e-4b79-b6f5-da9b9b6db1a5",
   "metadata": {},
   "outputs": [
    {
     "name": "stdout",
     "output_type": "stream",
     "text": [
      "2\n",
      "3\n",
      "5\n",
      "7\n"
     ]
    }
   ],
   "source": [
    "n_list = range(2, 10 + 1)\n",
    "\n",
    "for i in range(2, int(10 ** 0.5) + 1):\n",
    "    n_list = [x for x in n_list if (x == i or x % i != 0)]\n",
    "\n",
    "for j in n_list:\n",
    "    print(j)"
   ]
  },
  {
   "cell_type": "code",
   "execution_count": null,
   "id": "20e403ec-f635-4b55-9d40-d074ff3b4856",
   "metadata": {},
   "outputs": [],
   "source": []
  }
 ],
 "metadata": {
  "kernelspec": {
   "display_name": "Python 3 (ipykernel)",
   "language": "python",
   "name": "python3"
  },
  "language_info": {
   "codemirror_mode": {
    "name": "ipython",
    "version": 3
   },
   "file_extension": ".py",
   "mimetype": "text/x-python",
   "name": "python",
   "nbconvert_exporter": "python",
   "pygments_lexer": "ipython3",
   "version": "3.11.0"
  }
 },
 "nbformat": 4,
 "nbformat_minor": 5
}
